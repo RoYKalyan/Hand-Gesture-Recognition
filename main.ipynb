{
 "cells": [
  {
   "cell_type": "markdown",
   "metadata": {},
   "source": [
    "### 1. Import Libraries"
   ]
  },
  {
   "cell_type": "code",
   "execution_count": 1,
   "metadata": {},
   "outputs": [],
   "source": [
    "# Import necessary libraries\n",
    "import os\n",
    "import json\n",
    "import numpy as np\n",
    "import pandas as pd\n",
    "import matplotlib.pyplot as plt\n",
    "from datetime import datetime\n"
   ]
  },
  {
   "cell_type": "markdown",
   "metadata": {},
   "source": [
    "### 2. Define Constants and Directories\n"
   ]
  },
  {
   "cell_type": "code",
   "execution_count": 2,
   "metadata": {},
   "outputs": [],
   "source": [
    "# Define gestures and directories\n",
    "GESTURES = ['swipe', 'push-pull', 'circular']\n",
    "input_dir = './data/'  # Directory containing the raw JSON files\n",
    "output_dir = 'preprocessing_output'  # Directory to save processed data"
   ]
  },
  {
   "cell_type": "markdown",
   "metadata": {},
   "source": [
    "### 3. Function to Load JSON Files\n",
    "This function reads each JSON file and creates a DataFrame with timestamp as the index and rssi values."
   ]
  },
  {
   "cell_type": "code",
   "execution_count": 3,
   "metadata": {},
   "outputs": [],
   "source": [
    "def read_rssi_json(file_path):\n",
    "    \"\"\"\n",
    "    Reads a JSON file and returns a DataFrame with timestamp and RSSI values.\n",
    "    \"\"\"\n",
    "    with open(file_path, 'r') as file:\n",
    "        data = json.load(file)\n",
    "    \n",
    "    records = []\n",
    "    for entry in data:\n",
    "        timestamp = datetime.strptime(entry['timestamp'], '%Y-%m-%d %H:%M:%S.%f')\n",
    "        records.append({'timestamp': timestamp, 'rssi': entry['rssi']})\n",
    "    \n",
    "    df = pd.DataFrame(records)\n",
    "    df.set_index('timestamp', inplace=True)\n",
    "    return df"
   ]
  },
  {
   "cell_type": "markdown",
   "metadata": {},
   "source": [
    "### 4. Exploratory Data Analysis (EDA) Function\n",
    "This function performs basic EDA by plotting time series and histogram of RSSI values for each gesture.\n",
    "\n"
   ]
  },
  {
   "cell_type": "code",
   "execution_count": 4,
   "metadata": {},
   "outputs": [],
   "source": [
    "def perform_eda(df, gesture):\n",
    "    \"\"\"\n",
    "    Performs EDA for the RSSI data, including descriptive statistics,\n",
    "    time series plot, and histogram of RSSI values.\n",
    "    \"\"\"\n",
    "    print(f\"Performing EDA for {gesture} gesture.\")\n",
    "    print(df.describe())  # Summary statistics\n",
    "\n",
    "    # Plot RSSI values over time\n",
    "    plt.figure(figsize=(12, 6))\n",
    "    plt.plot(df.index, df['rssi'], label=f'{gesture} RSSI')\n",
    "    plt.title(f'{gesture.capitalize()} Gesture - Raw RSSI Over Time')\n",
    "    plt.xlabel('Time')\n",
    "    plt.ylabel('RSSI Value')\n",
    "    plt.legend()\n",
    "    plt.show()\n",
    "\n",
    "    # Histogram of RSSI values\n",
    "    plt.figure(figsize=(8, 5))\n",
    "    plt.hist(df['rssi'], bins=30, color='skyblue', edgecolor='black')\n",
    "    plt.title(f'{gesture.capitalize()} Gesture - RSSI Distribution')\n",
    "    plt.xlabel('RSSI')\n",
    "    plt.ylabel('Frequency')\n",
    "    plt.show()"
   ]
  },
  {
   "cell_type": "markdown",
   "metadata": {},
   "source": [
    "### 5. Preprocess Function for Resampling, Smoothing, and Interpolation\n",
    "This function resamples the RSSI data, applies a moving average for smoothing, and interpolates missing values."
   ]
  },
  {
   "cell_type": "code",
   "execution_count": 5,
   "metadata": {},
   "outputs": [],
   "source": [
    "def preprocess_rssi_data(df, resample_interval='10ms'):\n",
    "    \"\"\"\n",
    "    Resamples, smooths, and interpolates the RSSI data.\n",
    "    \"\"\"\n",
    "    # Resample to regular interval\n",
    "    df_resampled = df.resample(resample_interval).mean()\n",
    "    \n",
    "    # Smooth the data using a 3-point moving average\n",
    "    df_resampled['rssi'] = df_resampled['rssi'].rolling(window=3, min_periods=1).mean()\n",
    "    \n",
    "    # Interpolate to fill any remaining missing values\n",
    "    df_resampled['rssi'] = df_resampled['rssi'].interpolate()\n",
    "    \n",
    "    return df_resampled"
   ]
  },
  {
   "cell_type": "markdown",
   "metadata": {},
   "source": [
    "### 6. Windowing Function for Sequence Creation\n",
    "This function creates fixed-size windows from the processed data for model training."
   ]
  },
  {
   "cell_type": "code",
   "execution_count": 6,
   "metadata": {},
   "outputs": [],
   "source": [
    "def create_sequences(df, window_size='1s', step_size='0.5s'):\n",
    "    \"\"\"\n",
    "    Creates fixed-size sequences (windows) of the data for model training.\n",
    "    \"\"\"\n",
    "    sequences = []\n",
    "    labels = []\n",
    "    \n",
    "    # Define start and end times for sliding window\n",
    "    start_time = df.index.min()\n",
    "    end_time = df.index.max()\n",
    "    current_start = start_time\n",
    "    current_end = current_start + pd.Timedelta(window_size)\n",
    "\n",
    "    # Slide the window over the data\n",
    "    while current_end <= end_time:\n",
    "        window = df.loc[current_start:current_end]\n",
    "        if len(window) > 0:\n",
    "            sequences.append(window['rssi'].values)\n",
    "        \n",
    "        # Shift the window by step_size\n",
    "        current_start += pd.Timedelta(step_size)\n",
    "        current_end = current_start + pd.Timedelta(window_size)\n",
    "    \n",
    "    return np.array(sequences)"
   ]
  },
  {
   "cell_type": "markdown",
   "metadata": {},
   "source": [
    "### 7. Run EDA and Preprocessing on All Gesture Files\n",
    "This section performs EDA, preprocessing, sequence creation, and saves the processed data in .npz format."
   ]
  },
  {
   "cell_type": "code",
   "execution_count": 7,
   "metadata": {},
   "outputs": [],
   "source": [
    "def preprocess_gesture_files(input_dir, output_dir, resample_interval='10ms', window_size='1s', step_size='0.5s'):\n",
    "    \"\"\"\n",
    "    Reads gesture files, performs EDA, preprocesses, creates sequences,\n",
    "    and saves the data in .npz format.\n",
    "    \"\"\"\n",
    "    if not os.path.exists(output_dir):\n",
    "        os.makedirs(output_dir)\n",
    "\n",
    "    all_sequences = []\n",
    "    all_labels = []\n",
    "\n",
    "    for gesture in GESTURES:\n",
    "        file_path = os.path.join(input_dir, f'{gesture}_rssi.json')\n",
    "        \n",
    "        # Step 1: Read the JSON file\n",
    "        df = read_rssi_json(file_path)\n",
    "        \n",
    "        # Step 2: Perform EDA to analyze data patterns and noise\n",
    "        perform_eda(df, gesture)\n",
    "        \n",
    "        # Step 3: Resample, smooth, and interpolate\n",
    "        df_preprocessed = preprocess_rssi_data(df, resample_interval)\n",
    "        \n",
    "        # Step 4: Create sequences from the preprocessed data\n",
    "        sequences = create_sequences(df_preprocessed, window_size, step_size)\n",
    "        \n",
    "        # Step 5: Label each sequence according to gesture\n",
    "        label = GESTURES.index(gesture)\n",
    "        labels = np.full(len(sequences), label)\n",
    "        \n",
    "        # Append data\n",
    "        all_sequences.append(sequences)\n",
    "        all_labels.append(labels)\n",
    "    \n",
    "    # Combine sequences and labels across gestures\n",
    "    all_sequences = np.concatenate(all_sequences, axis=0)\n",
    "    all_labels = np.concatenate(all_labels, axis=0)\n",
    "    \n",
    "    # Step 6: Save to .npz file\n",
    "    np.savez_compressed(os.path.join(output_dir, 'gesture_data.npz'), data=all_sequences, labels=all_labels)\n",
    "    print(f'Processed data saved to: {output_dir}/gesture_data.npz')\n"
   ]
  },
  {
   "cell_type": "markdown",
   "metadata": {},
   "source": [
    "### 8. Run the Preprocessing Pipeline\n",
    "Execute the preprocessing pipeline on all gesture files. Run this cell to preprocess the data and save it in .npz format."
   ]
  },
  {
   "cell_type": "code",
   "execution_count": 8,
   "metadata": {},
   "outputs": [
    {
     "ename": "FileNotFoundError",
     "evalue": "[Errno 2] No such file or directory: './swipe_rssi.json'",
     "output_type": "error",
     "traceback": [
      "\u001b[0;31m---------------------------------------------------------------------------\u001b[0m",
      "\u001b[0;31mFileNotFoundError\u001b[0m                         Traceback (most recent call last)",
      "Cell \u001b[0;32mIn[8], line 2\u001b[0m\n\u001b[1;32m      1\u001b[0m \u001b[38;5;66;03m# Run preprocessing on all gesture files\u001b[39;00m\n\u001b[0;32m----> 2\u001b[0m \u001b[43mpreprocess_gesture_files\u001b[49m\u001b[43m(\u001b[49m\u001b[43minput_dir\u001b[49m\u001b[43m,\u001b[49m\u001b[43m \u001b[49m\u001b[43moutput_dir\u001b[49m\u001b[43m)\u001b[49m\n",
      "Cell \u001b[0;32mIn[7], line 16\u001b[0m, in \u001b[0;36mpreprocess_gesture_files\u001b[0;34m(input_dir, output_dir, resample_interval, window_size, step_size)\u001b[0m\n\u001b[1;32m     13\u001b[0m file_path \u001b[38;5;241m=\u001b[39m os\u001b[38;5;241m.\u001b[39mpath\u001b[38;5;241m.\u001b[39mjoin(input_dir, \u001b[38;5;124mf\u001b[39m\u001b[38;5;124m'\u001b[39m\u001b[38;5;132;01m{\u001b[39;00mgesture\u001b[38;5;132;01m}\u001b[39;00m\u001b[38;5;124m_rssi.json\u001b[39m\u001b[38;5;124m'\u001b[39m)\n\u001b[1;32m     15\u001b[0m \u001b[38;5;66;03m# Step 1: Read the JSON file\u001b[39;00m\n\u001b[0;32m---> 16\u001b[0m df \u001b[38;5;241m=\u001b[39m \u001b[43mread_rssi_json\u001b[49m\u001b[43m(\u001b[49m\u001b[43mfile_path\u001b[49m\u001b[43m)\u001b[49m\n\u001b[1;32m     18\u001b[0m \u001b[38;5;66;03m# Step 2: Perform EDA to analyze data patterns and noise\u001b[39;00m\n\u001b[1;32m     19\u001b[0m perform_eda(df, gesture)\n",
      "Cell \u001b[0;32mIn[3], line 5\u001b[0m, in \u001b[0;36mread_rssi_json\u001b[0;34m(file_path)\u001b[0m\n\u001b[1;32m      1\u001b[0m \u001b[38;5;28;01mdef\u001b[39;00m \u001b[38;5;21mread_rssi_json\u001b[39m(file_path):\n\u001b[1;32m      2\u001b[0m \u001b[38;5;250m    \u001b[39m\u001b[38;5;124;03m\"\"\"\u001b[39;00m\n\u001b[1;32m      3\u001b[0m \u001b[38;5;124;03m    Reads a JSON file and returns a DataFrame with timestamp and RSSI values.\u001b[39;00m\n\u001b[1;32m      4\u001b[0m \u001b[38;5;124;03m    \"\"\"\u001b[39;00m\n\u001b[0;32m----> 5\u001b[0m     \u001b[38;5;28;01mwith\u001b[39;00m \u001b[38;5;28;43mopen\u001b[39;49m\u001b[43m(\u001b[49m\u001b[43mfile_path\u001b[49m\u001b[43m,\u001b[49m\u001b[43m \u001b[49m\u001b[38;5;124;43m'\u001b[39;49m\u001b[38;5;124;43mr\u001b[39;49m\u001b[38;5;124;43m'\u001b[39;49m\u001b[43m)\u001b[49m \u001b[38;5;28;01mas\u001b[39;00m file:\n\u001b[1;32m      6\u001b[0m         data \u001b[38;5;241m=\u001b[39m json\u001b[38;5;241m.\u001b[39mload(file)\n\u001b[1;32m      8\u001b[0m     records \u001b[38;5;241m=\u001b[39m []\n",
      "File \u001b[0;32m~/anaconda3/envs/aienv/lib/python3.8/site-packages/IPython/core/interactiveshell.py:284\u001b[0m, in \u001b[0;36m_modified_open\u001b[0;34m(file, *args, **kwargs)\u001b[0m\n\u001b[1;32m    277\u001b[0m \u001b[38;5;28;01mif\u001b[39;00m file \u001b[38;5;129;01min\u001b[39;00m {\u001b[38;5;241m0\u001b[39m, \u001b[38;5;241m1\u001b[39m, \u001b[38;5;241m2\u001b[39m}:\n\u001b[1;32m    278\u001b[0m     \u001b[38;5;28;01mraise\u001b[39;00m \u001b[38;5;167;01mValueError\u001b[39;00m(\n\u001b[1;32m    279\u001b[0m         \u001b[38;5;124mf\u001b[39m\u001b[38;5;124m\"\u001b[39m\u001b[38;5;124mIPython won\u001b[39m\u001b[38;5;124m'\u001b[39m\u001b[38;5;124mt let you open fd=\u001b[39m\u001b[38;5;132;01m{\u001b[39;00mfile\u001b[38;5;132;01m}\u001b[39;00m\u001b[38;5;124m by default \u001b[39m\u001b[38;5;124m\"\u001b[39m\n\u001b[1;32m    280\u001b[0m         \u001b[38;5;124m\"\u001b[39m\u001b[38;5;124mas it is likely to crash IPython. If you know what you are doing, \u001b[39m\u001b[38;5;124m\"\u001b[39m\n\u001b[1;32m    281\u001b[0m         \u001b[38;5;124m\"\u001b[39m\u001b[38;5;124myou can use builtins\u001b[39m\u001b[38;5;124m'\u001b[39m\u001b[38;5;124m open.\u001b[39m\u001b[38;5;124m\"\u001b[39m\n\u001b[1;32m    282\u001b[0m     )\n\u001b[0;32m--> 284\u001b[0m \u001b[38;5;28;01mreturn\u001b[39;00m \u001b[43mio_open\u001b[49m\u001b[43m(\u001b[49m\u001b[43mfile\u001b[49m\u001b[43m,\u001b[49m\u001b[43m \u001b[49m\u001b[38;5;241;43m*\u001b[39;49m\u001b[43margs\u001b[49m\u001b[43m,\u001b[49m\u001b[43m \u001b[49m\u001b[38;5;241;43m*\u001b[39;49m\u001b[38;5;241;43m*\u001b[39;49m\u001b[43mkwargs\u001b[49m\u001b[43m)\u001b[49m\n",
      "\u001b[0;31mFileNotFoundError\u001b[0m: [Errno 2] No such file or directory: './swipe_rssi.json'"
     ]
    }
   ],
   "source": [
    "# Run preprocessing on all gesture files\n",
    "preprocess_gesture_files(input_dir, output_dir)"
   ]
  }
 ],
 "metadata": {
  "kernelspec": {
   "display_name": "Python 3",
   "language": "python",
   "name": "python3"
  },
  "language_info": {
   "codemirror_mode": {
    "name": "ipython",
    "version": 3
   },
   "file_extension": ".py",
   "mimetype": "text/x-python",
   "name": "python",
   "nbconvert_exporter": "python",
   "pygments_lexer": "ipython3",
   "version": "3.8.18"
  }
 },
 "nbformat": 4,
 "nbformat_minor": 2
}
